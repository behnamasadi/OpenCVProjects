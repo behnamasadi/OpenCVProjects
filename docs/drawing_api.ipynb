{
 "cells": [
  {
   "cell_type": "markdown",
   "id": "5edac660-2694-48ce-b000-c598c35fdc52",
   "metadata": {},
   "source": [
    "## arrowedLine\n",
    "\n",
    "\n",
    "\n",
    "\n",
    "\n",
    "```python\n",
    "                (x = column= u) ->  x is  [0, width-1] \n",
    "     ------------------------------------------►u\n",
    "     | (0,0) (1,0) (2,0) (3,0)\n",
    "     | (0,1) (1,1) (2,1) (3,1)\n",
    "     | (0,2) (1,2) (2,2) (3,2)\n",
    "     |\n",
    "     |\n",
    "     ▼\n",
    "     v  (y = row=v) -> y is  [0, height-1] \n",
    "\n",
    "H, W, C = image.shape\n",
    "\n",
    "# center of the image, \n",
    "# x is  [0, width-1] \n",
    "# y is  [0, height-1] \n",
    "x_start, y_start = int(W/2), int(H/2)\n",
    "x_end, y_end = W, 0\n",
    "\n",
    "pt1 = (x_start, y_start)\n",
    "pt2 = (x_end, y_end)\n",
    "\n",
    "\n",
    "red, green, blue = 0, 255, 255\n",
    "color = (red, green, blue)\n",
    "thickness = 2\n",
    "line_type = cv2.LINE_AA  # Anti-aliased line\n",
    "shift = 0\n",
    "tipLength = 0.1  # Length of the arrow tip in relation to the arrow length\n",
    "\n",
    "\n",
    "img = cv2.arrowedLine(image, pt1, pt2, color, thickness,\n",
    "                      line_type, shift, tipLength)\n",
    "    \n",
    "```\n",
    "\n",
    "\n"
   ]
  }
 ],
 "metadata": {
  "kernelspec": {
   "display_name": "Python 3 (ipykernel)",
   "language": "python",
   "name": "python3"
  },
  "language_info": {
   "codemirror_mode": {
    "name": "ipython",
    "version": 3
   },
   "file_extension": ".py",
   "mimetype": "text/x-python",
   "name": "python",
   "nbconvert_exporter": "python",
   "pygments_lexer": "ipython3",
   "version": "3.13.2"
  }
 },
 "nbformat": 4,
 "nbformat_minor": 5
}
