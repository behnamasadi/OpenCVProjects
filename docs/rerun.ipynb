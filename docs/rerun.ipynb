{
 "cells": [
  {
   "cell_type": "markdown",
   "id": "50eb02a0-064f-4a60-a933-0b3aeb3c2abe",
   "metadata": {},
   "source": [
    "Ubuntu 24.04, rerun, installation via Anaconda, \n",
    "Running `rerun` crashes with the followings:\n",
    "```\n",
    "rerun \n",
    "xkbcommon: ERROR: failed to add default include path /home/behnam/anaconda3/envs/OpenCVProjects/share/X11/xkb\n",
    "\n",
    "thread 'main' panicked at 'called `Result::unwrap()` on an `Err` value: XKBNotFound'\n",
    "```\n",
    "\n",
    "Solution:\n",
    "First install \n",
    "```\n",
    "sudo apt install xkb-data libxkbcommon0 libxkbcommon-dev\n",
    "``` \n",
    "and then:\n",
    "\n",
    "\n",
    "```\n",
    "export XKB_CONFIG_ROOT=/usr/share/X11/xkb\n",
    "```"
   ]
  },
  {
   "cell_type": "markdown",
   "id": "50c3adcc-8b76-4211-8457-11c13313ee12",
   "metadata": {},
   "source": [
    "rerun --web-viewer"
   ]
  }
 ],
 "metadata": {
  "kernelspec": {
   "display_name": "Python 3 (ipykernel)",
   "language": "python",
   "name": "python3"
  },
  "language_info": {
   "codemirror_mode": {
    "name": "ipython",
    "version": 3
   },
   "file_extension": ".py",
   "mimetype": "text/x-python",
   "name": "python",
   "nbconvert_exporter": "python",
   "pygments_lexer": "ipython3",
   "version": "3.13.2"
  }
 },
 "nbformat": 4,
 "nbformat_minor": 5
}
