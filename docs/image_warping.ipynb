{
 "cells": [
  {
   "cell_type": "code",
   "execution_count": null,
   "id": "c964e241-c944-46d4-b4bb-b7f48a570039",
   "metadata": {},
   "outputs": [],
   "source": []
  },
  {
   "cell_type": "code",
   "execution_count": null,
   "id": "f254b406-8ded-49de-a978-4872a5bc737c",
   "metadata": {},
   "outputs": [],
   "source": [
    "import cv2\n",
    "import numpy as np\n",
    "\n",
    "# Generate a simple checkerboard image\n",
    "def create_grid(size=400, step=40):\n",
    "    img = np.zeros((size, size, 3), dtype=np.uint8)\n",
    "    for y in range(0, size, step):\n",
    "        for x in range(0, size, step):\n",
    "            if (x // step + y // step) % 2 == 0:\n",
    "                img[y:y+step, x:x+step] = (255, 255, 255)\n",
    "    return img\n",
    "\n",
    "# Create base grid\n",
    "img = create_grid()\n",
    "\n",
    "rows, cols, _ = img.shape\n",
    "\n",
    "# Define 3 source and destination points for affine transform\n",
    "pts1_affine = np.float32([[50, 50], [200, 50], [50, 200]])\n",
    "pts2_affine = np.float32([[10, 100], [200, 50], [100, 250]])\n",
    "\n",
    "# Compute affine transform matrix\n",
    "M_affine = cv2.getAffineTransform(pts1_affine, pts2_affine)\n",
    "warp_affine = cv2.warpAffine(img, M_affine, (cols, rows))\n",
    "\n",
    "# Define 4 points for perspective transform\n",
    "pts1_persp = np.float32([[50, 50], [350, 50], [50, 350], [350, 350]])\n",
    "pts2_persp = np.float32([[10, 100], [380, 50], [80, 350], [330, 380]])\n",
    "\n",
    "# Compute perspective transform (3x3)\n",
    "H = cv2.getPerspectiveTransform(pts1_persp, pts2_persp)\n",
    "warp_persp = cv2.warpPerspective(img, H, (cols, rows))\n",
    "\n",
    "# Visualize all\n",
    "cv2.imshow('Original Grid', img)\n",
    "cv2.imshow('Affine Warp', warp_affine)\n",
    "cv2.imshow('Perspective Warp', warp_persp)\n",
    "cv2.waitKey(0)\n",
    "cv2.destroyAllWindows()\n",
    "\n"
   ]
  },
  {
   "cell_type": "code",
   "execution_count": null,
   "id": "5e0f4ed0-69cd-4c14-a8f1-a24afc742694",
   "metadata": {},
   "outputs": [],
   "source": []
  }
 ],
 "metadata": {
  "kernelspec": {
   "display_name": "Python 3 (ipykernel)",
   "language": "python",
   "name": "python3"
  },
  "language_info": {
   "codemirror_mode": {
    "name": "ipython",
    "version": 3
   },
   "file_extension": ".py",
   "mimetype": "text/x-python",
   "name": "python",
   "nbconvert_exporter": "python",
   "pygments_lexer": "ipython3",
   "version": "3.13.2"
  }
 },
 "nbformat": 4,
 "nbformat_minor": 5
}
