{
 "cells": [
  {
   "cell_type": "markdown",
   "id": "922b9281-5806-42ed-a672-dc5820d52fe1",
   "metadata": {},
   "source": [
    "## Decompose Essential Matrix\n"
   ]
  },
  {
   "cell_type": "markdown",
   "id": "dd275fba-b8c3-4ea5-ba67-d3b5042d821f",
   "metadata": {},
   "source": [
    "## Decompose Homography Matrix\n"
   ]
  },
  {
   "cell_type": "markdown",
   "id": "d4762e3e-1b9f-4128-a326-8f310e3478d5",
   "metadata": {},
   "source": [
    "## Decompose Projection Matrix\n"
   ]
  }
 ],
 "metadata": {
  "kernelspec": {
   "display_name": "Python 3 (ipykernel)",
   "language": "python",
   "name": "python3"
  },
  "language_info": {
   "codemirror_mode": {
    "name": "ipython",
    "version": 3
   },
   "file_extension": ".py",
   "mimetype": "text/x-python",
   "name": "python",
   "nbconvert_exporter": "python",
   "pygments_lexer": "ipython3",
   "version": "3.12.2"
  }
 },
 "nbformat": 4,
 "nbformat_minor": 5
}
